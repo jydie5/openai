{
 "cells": [
  {
   "cell_type": "code",
   "execution_count": 1,
   "id": "eb40c9cb-7aba-496c-ab13-e879def46ac8",
   "metadata": {},
   "outputs": [
    {
     "name": "stderr",
     "output_type": "stream",
     "text": [
      "/var/folders/x7/f37kvql11c77kz9phlcms1x40000gn/T/ipykernel_87918/745335427.py:25: GradioDeprecationWarning: Usage of gradio.inputs is deprecated, and will not be supported in the future, please import your component from gradio.components\n",
      "  inputs=gr.inputs.Textbox(lines=2, placeholder=\"ここにテキストを入力...\"),\n",
      "/var/folders/x7/f37kvql11c77kz9phlcms1x40000gn/T/ipykernel_87918/745335427.py:25: GradioDeprecationWarning: `optional` parameter is deprecated, and it has no effect\n",
      "  inputs=gr.inputs.Textbox(lines=2, placeholder=\"ここにテキストを入力...\"),\n",
      "/var/folders/x7/f37kvql11c77kz9phlcms1x40000gn/T/ipykernel_87918/745335427.py:25: GradioDeprecationWarning: `numeric` parameter is deprecated, and it has no effect\n",
      "  inputs=gr.inputs.Textbox(lines=2, placeholder=\"ここにテキストを入力...\"),\n"
     ]
    },
    {
     "name": "stdout",
     "output_type": "stream",
     "text": [
      "Running on local URL:  http://127.0.0.1:7860\n",
      "\n",
      "To create a public link, set `share=True` in `launch()`.\n"
     ]
    },
    {
     "data": {
      "text/html": [
       "<div><iframe src=\"http://127.0.0.1:7860/\" width=\"100%\" height=\"500\" allow=\"autoplay; camera; microphone; clipboard-read; clipboard-write;\" frameborder=\"0\" allowfullscreen></iframe></div>"
      ],
      "text/plain": [
       "<IPython.core.display.HTML object>"
      ]
     },
     "metadata": {},
     "output_type": "display_data"
    },
    {
     "data": {
      "text/plain": []
     },
     "execution_count": 1,
     "metadata": {},
     "output_type": "execute_result"
    }
   ],
   "source": [
    "import os\n",
    "from openai import OpenAI\n",
    "import gradio as gr\n",
    "\n",
    "# OpenAIクライアントの初期化\n",
    "client = OpenAI(api_key=os.environ['OPENAI_API_KEY3'])\n",
    "\n",
    "# テキストを音声に変換する関数\n",
    "def text_to_speech(text, filename=\"./speech.mp3\"):\n",
    "    response = client.audio.speech.create(\n",
    "        model=\"tts-1\",\n",
    "        voice=\"nova\",\n",
    "        input=text\n",
    "    )\n",
    "    response.stream_to_file(filename)\n",
    "    return filename\n",
    "\n",
    "# Gradioインターフェース\n",
    "def gradio_interface(text):\n",
    "    filename = text_to_speech(text)\n",
    "    return filename\n",
    "\n",
    "iface = gr.Interface(\n",
    "    gradio_interface, \n",
    "    inputs=gr.inputs.Textbox(lines=2, placeholder=\"ここにテキストを入力...\"), \n",
    "    outputs=\"audio\"\n",
    ")\n",
    "\n",
    "iface.launch(inbrowser=True)\n"
   ]
  },
  {
   "cell_type": "code",
   "execution_count": null,
   "id": "52bcf5e0-dff5-421c-9d01-551090c9a3c3",
   "metadata": {},
   "outputs": [],
   "source": []
  }
 ],
 "metadata": {
  "kernelspec": {
   "display_name": "Python 3 (ipykernel)",
   "language": "python",
   "name": "python3"
  },
  "language_info": {
   "codemirror_mode": {
    "name": "ipython",
    "version": 3
   },
   "file_extension": ".py",
   "mimetype": "text/x-python",
   "name": "python",
   "nbconvert_exporter": "python",
   "pygments_lexer": "ipython3",
   "version": "3.10.6"
  }
 },
 "nbformat": 4,
 "nbformat_minor": 5
}
