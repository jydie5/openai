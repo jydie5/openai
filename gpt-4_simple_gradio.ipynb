{
 "cells": [
  {
   "cell_type": "code",
   "execution_count": 1,
   "id": "08881963-9772-480b-ac20-61b7242cc14b",
   "metadata": {
    "tags": []
   },
   "outputs": [
    {
     "ename": "ImportError",
     "evalue": "cannot import name 'OpenAI' from 'openai' (C:\\Users\\test\\AppData\\Local\\Programs\\Python\\Python310\\lib\\site-packages\\openai\\__init__.py)",
     "output_type": "error",
     "traceback": [
      "\u001b[1;31m---------------------------------------------------------------------------\u001b[0m",
      "\u001b[1;31mImportError\u001b[0m                               Traceback (most recent call last)",
      "Cell \u001b[1;32mIn[1], line 19\u001b[0m\n\u001b[0;32m     17\u001b[0m \u001b[38;5;28;01mimport\u001b[39;00m \u001b[38;5;21;01mgradio\u001b[39;00m \u001b[38;5;28;01mas\u001b[39;00m \u001b[38;5;21;01mgr\u001b[39;00m\n\u001b[0;32m     18\u001b[0m \u001b[38;5;28;01mimport\u001b[39;00m \u001b[38;5;21;01mos\u001b[39;00m\n\u001b[1;32m---> 19\u001b[0m \u001b[38;5;28;01mfrom\u001b[39;00m \u001b[38;5;21;01mopenai\u001b[39;00m \u001b[38;5;28;01mimport\u001b[39;00m OpenAI\n\u001b[0;32m     21\u001b[0m client \u001b[38;5;241m=\u001b[39m OpenAI(\n\u001b[0;32m     22\u001b[0m   api_key\u001b[38;5;241m=\u001b[39mos\u001b[38;5;241m.\u001b[39menviron[\u001b[38;5;124m'\u001b[39m\u001b[38;5;124mOPENAI_API_KEY3\u001b[39m\u001b[38;5;124m'\u001b[39m],  \u001b[38;5;66;03m# this is also the default, it can be omitted\u001b[39;00m\n\u001b[0;32m     23\u001b[0m )\n\u001b[0;32m     25\u001b[0m \u001b[38;5;28;01mdef\u001b[39;00m \u001b[38;5;21mask_gpt\u001b[39m(inputs, model\u001b[38;5;241m=\u001b[39m\u001b[38;5;124m\"\u001b[39m\u001b[38;5;124mgpt-4-1106-preview\u001b[39m\u001b[38;5;124m\"\u001b[39m):\n\u001b[0;32m     26\u001b[0m \u001b[38;5;66;03m#def ask_gpt(inputs, model=\"gpt-3.5-turbo-0613\"):\u001b[39;00m\n",
      "\u001b[1;31mImportError\u001b[0m: cannot import name 'OpenAI' from 'openai' (C:\\Users\\test\\AppData\\Local\\Programs\\Python\\Python310\\lib\\site-packages\\openai\\__init__.py)"
     ]
    }
   ],
   "source": [
    "#openai 0.28>1.3へのmigrationの注意事項\n",
    "#キーの設定は\n",
    "# from openai import OpenAI\n",
    "\n",
    "# client = OpenAI(\n",
    "#   api_key=os.environ['OPENAI_API_KEY3'],  # this is also the default, it can be omitted\n",
    "# )\n",
    "\n",
    "# chat completionは\n",
    "# openai.ChatCompletion.create() -> client.chat.completions.create()\n",
    "# openai.Completion.create() -> client.completions.create()\n",
    "\n",
    "# レスポンスは以下のように変化\n",
    "# response.choices[0].message['content'].strip()\n",
    "# response.choices[0].message.content.strip()\n",
    "\n",
    "import gradio as gr\n",
    "import os\n",
    "from openai import OpenAI\n",
    "\n",
    "client = OpenAI(\n",
    "  api_key=os.environ['OPENAI_API_KEY3'],  # this is also the default, it can be omitted\n",
    ")\n",
    "\n",
    "def ask_gpt(inputs, model=\"gpt-4-1106-preview\"):\n",
    "#def ask_gpt(inputs, model=\"gpt-3.5-turbo-0613\"):\n",
    "    response = client.chat.completions.create(\n",
    "        model=model,\n",
    "        messages=[\n",
    "            {\"role\": \"system\", \"content\": \"\\\n",
    "            you are best assistant.you think step by step.output must be Japanese.\\\n",
    "             \"},\n",
    "            {\"role\": \"user\", \"content\": inputs}\n",
    "        ],\n",
    "        max_tokens=2000,\n",
    "        temperature=0.7,\n",
    "    )\n",
    "    return response.choices[0].message.content.strip()\n",
    "\n",
    "# Expanded the Textbox input field to take up full width of the screen\n",
    "input_interface = gr.components.Textbox(lines=2, placeholder=\"User Input Here...\")\n",
    "\n",
    "# with gr.Blocks() as demo:\n",
    "#     with gr.Column(scale=1, min_width=600):\n",
    "#         fn=ask_gpt\n",
    "#         inputs=input_interface\n",
    "#         outputs=\"text\"\n",
    "\n",
    "# demo.launch()\n",
    "\n",
    "demo = gr.Interface(\n",
    "    fn=ask_gpt,\n",
    "    inputs=input_interface,\n",
    "    outputs=\"text\",\n",
    "\n",
    ")\n",
    "demo.launch(inbrowser=True)\n"
   ]
  },
  {
   "cell_type": "code",
   "execution_count": 2,
   "id": "53d1f2f1-3d31-4b5f-80f7-2deb2c8f5326",
   "metadata": {
    "tags": []
   },
   "outputs": [
    {
     "name": "stdout",
     "output_type": "stream",
     "text": [
      "Running on local URL:  http://127.0.0.1:7861\n",
      "\n",
      "To create a public link, set `share=True` in `launch()`.\n"
     ]
    },
    {
     "data": {
      "text/html": [
       "<div><iframe src=\"http://127.0.0.1:7861/\" width=\"100%\" height=\"500\" allow=\"autoplay; camera; microphone; clipboard-read; clipboard-write;\" frameborder=\"0\" allowfullscreen></iframe></div>"
      ],
      "text/plain": [
       "<IPython.core.display.HTML object>"
      ]
     },
     "metadata": {},
     "output_type": "display_data"
    },
    {
     "data": {
      "text/plain": []
     },
     "execution_count": 2,
     "metadata": {},
     "output_type": "execute_result"
    }
   ],
   "source": [
    "import gradio as gr\n",
    "import openai\n",
    "import os\n",
    "\n",
    "apikey = os.environ['OPENAI_API_KEY2']\n",
    "\n",
    "def ask_gpt(inputs, model=\"gpt-3.5-turbo-16k\"):\n",
    "    response = openai.ChatCompletion.create(\n",
    "        model=model,\n",
    "        messages=[\n",
    "            {\"role\": \"system\", \"content\": \"\\\n",
    "            you are best assistant.you think step by step.output must be Japanese.\\\n",
    "             \"},\n",
    "            {\"role\": \"user\", \"content\": inputs}\n",
    "        ],\n",
    "        max_tokens=2000,\n",
    "        temperature=0.7,\n",
    "    )\n",
    "    return response.choices[0].message['content'].strip()\n",
    "\n",
    "# Blocksの作成\n",
    "with gr.Blocks() as demo:\n",
    "    # コンポーネント\n",
    "    inputs = gr.Textbox(lines=2, placeholder=\"User Input Here...\")\n",
    "    output = gr.Textbox(label=\"Output Box\")\n",
    "    greet_btn = gr.Button(\"ask_gpt\")\n",
    "\n",
    "    # イベントリスナー\n",
    "    greet_btn.click(fn=ask_gpt, inputs=inputs, outputs=output, api_name=\"ask_gpt\")\n",
    "\n",
    "# 起動\n",
    "#demo.launch(share=True)\n",
    "demo.launch()"
   ]
  },
  {
   "cell_type": "code",
   "execution_count": null,
   "id": "62abf74a-0bc1-4850-9b4b-1d42c803e199",
   "metadata": {},
   "outputs": [],
   "source": [
    "chatbot = gr.Chatbot()"
   ]
  },
  {
   "cell_type": "code",
   "execution_count": 9,
   "id": "3a05b574-4b32-41fd-a5d3-10772e5b819e",
   "metadata": {
    "tags": []
   },
   "outputs": [
    {
     "data": {
      "text/plain": [
       "radio"
      ]
     },
     "execution_count": 9,
     "metadata": {},
     "output_type": "execute_result"
    }
   ],
   "source": [
    "radio"
   ]
  },
  {
   "cell_type": "code",
   "execution_count": 3,
   "id": "29a56a19-3b00-46b3-9389-f3beda5af6e9",
   "metadata": {
    "tags": []
   },
   "outputs": [
    {
     "name": "stdout",
     "output_type": "stream",
     "text": [
      "Running on local URL:  http://127.0.0.1:7862\n",
      "\n",
      "To create a public link, set `share=True` in `launch()`.\n"
     ]
    },
    {
     "data": {
      "text/html": [
       "<div><iframe src=\"http://127.0.0.1:7862/\" width=\"100%\" height=\"500\" allow=\"autoplay; camera; microphone; clipboard-read; clipboard-write;\" frameborder=\"0\" allowfullscreen></iframe></div>"
      ],
      "text/plain": [
       "<IPython.core.display.HTML object>"
      ]
     },
     "metadata": {},
     "output_type": "display_data"
    },
    {
     "data": {
      "text/plain": []
     },
     "execution_count": 3,
     "metadata": {},
     "output_type": "execute_result"
    }
   ],
   "source": [
    "import gradio as gr\n",
    "\n",
    "# Blocks\n",
    "with gr.Blocks() as demo:\n",
    "    # コンポーネント\n",
    "    error_box = gr.Textbox(label=\"Error\", visible=False)\n",
    "    name_box = gr.Textbox(label=\"Name\")\n",
    "    age_box = gr.Number(label=\"Age\", minimum=0, maximum=100)\n",
    "    symptoms_box = gr.CheckboxGroup([\"Cough\", \"Fever\", \"Runny Nose\"])\n",
    "    submit_btn = gr.Button(\"Submit\")\n",
    "    with gr.Column(visible=False) as output_col:\n",
    "        diagnosis_box = gr.Textbox(label=\"Diagnosis\")\n",
    "        patient_summary_box = gr.Textbox(label=\"Patient Summary\")\n",
    "\n",
    "    # イベントリスナー\n",
    "    def submit(name, age, symptoms):\n",
    "        if len(name) == 0:\n",
    "            return {error_box: gr.update(value=\"Enter name\", visible=True)}\n",
    "        return {\n",
    "            output_col: gr.update(visible=True),\n",
    "            diagnosis_box: \"covid\" if \"Cough\" in symptoms else \"flu\",\n",
    "            patient_summary_box: f\"{name}, {age} y/o\",\n",
    "        }\n",
    "\n",
    "    # イベントリスナー\n",
    "    submit_btn.click(\n",
    "        submit,\n",
    "        [name_box, age_box, symptoms_box],\n",
    "        [error_box, diagnosis_box, patient_summary_box, output_col],\n",
    "    )\n",
    "\n",
    "# 起動\n",
    "demo.launch()"
   ]
  },
  {
   "cell_type": "code",
   "execution_count": 1,
   "id": "7172553f-9078-4ee6-8b2e-31447d03ee96",
   "metadata": {},
   "outputs": [
    {
     "name": "stdout",
     "output_type": "stream",
     "text": [
      "Running on local URL:  http://127.0.0.1:7860\n",
      "\n",
      "To create a public link, set `share=True` in `launch()`.\n"
     ]
    },
    {
     "data": {
      "text/html": [
       "<div><iframe src=\"http://127.0.0.1:7860/\" width=\"100%\" height=\"500\" allow=\"autoplay; camera; microphone; clipboard-read; clipboard-write;\" frameborder=\"0\" allowfullscreen></iframe></div>"
      ],
      "text/plain": [
       "<IPython.core.display.HTML object>"
      ]
     },
     "metadata": {},
     "output_type": "display_data"
    },
    {
     "data": {
      "text/plain": []
     },
     "execution_count": 1,
     "metadata": {},
     "output_type": "execute_result"
    }
   ],
   "source": [
    "#sql teacher\n",
    "import gradio as gr\n",
    "import openai\n",
    "import os\n",
    "\n",
    "apikey = os.environ['OPENAI_API_KEY2']\n",
    "openai.api_key = apikey\n",
    "\n",
    "\n",
    "def ask_gpt(inputs, model=\"gpt-4\"):\n",
    "#def ask_gpt(inputs, model=\"gpt-3.5-turbo-0613\"):\n",
    "    response = openai.ChatCompletion.create(\n",
    "        model=model,\n",
    "        messages=[\n",
    "            {\"role\": \"system\", \"content\": \"\\\n",
    "            you are best sql teacher.you think step by step.output must be Japanese.\\\n",
    "             \"},\n",
    "            {\"role\": \"user\", \"content\": inputs}\n",
    "        ],\n",
    "        max_tokens=2000,\n",
    "        temperature=0.7,\n",
    "    )\n",
    "    return response.choices[0].message['content'].strip()\n",
    "\n",
    "# Expanded the Textbox input field to take up full width of the screen\n",
    "input_interface = gr.components.Textbox(lines=2, placeholder=\"User Input Here...\")\n",
    "\n",
    "# with gr.Blocks() as demo:\n",
    "#     with gr.Column(scale=1, min_width=600):\n",
    "#         fn=ask_gpt\n",
    "#         inputs=input_interface\n",
    "#         outputs=\"text\"\n",
    "\n",
    "# demo.launch()\n",
    "\n",
    "demo = gr.Interface(\n",
    "    fn=ask_gpt,\n",
    "    inputs=input_interface,\n",
    "    outputs=\"text\",\n",
    "\n",
    ")\n",
    "demo.launch(inbrowser=True)\n"
   ]
  },
  {
   "cell_type": "code",
   "execution_count": 1,
   "id": "43fcde53-29e5-41a1-862f-bb85648b2192",
   "metadata": {},
   "outputs": [
    {
     "name": "stdout",
     "output_type": "stream",
     "text": [
      "Running on local URL:  http://127.0.0.1:7860\n",
      "\n",
      "To create a public link, set `share=True` in `launch()`.\n"
     ]
    },
    {
     "data": {
      "text/html": [
       "<div><iframe src=\"http://127.0.0.1:7860/\" width=\"100%\" height=\"500\" allow=\"autoplay; camera; microphone; clipboard-read; clipboard-write;\" frameborder=\"0\" allowfullscreen></iframe></div>"
      ],
      "text/plain": [
       "<IPython.core.display.HTML object>"
      ]
     },
     "metadata": {},
     "output_type": "display_data"
    },
    {
     "data": {
      "text/plain": []
     },
     "execution_count": 1,
     "metadata": {},
     "output_type": "execute_result"
    },
    {
     "name": "stdout",
     "output_type": "stream",
     "text": [
      "はい、私はAIです。私はOpenAIが開発した自然言語処理モデルで、様々な質問やタスクに対して回答や支援を提供することができます。私は機械学習とディープラーニングの技術を用いて訓練されており、大量のデータを学習しています。私の目的は、人々が情報を簡単にアクセスできるようにすることです。どのようにお手伝いできますか？"
     ]
    }
   ],
   "source": [
    "import gradio as gr\n",
    "import openai\n",
    "import os\n",
    "\n",
    "apikey = os.environ['OPENAI_API_KEY2']\n",
    "openai.api_key = apikey\n",
    "\n",
    "from langchain.callbacks.streaming_stdout import StreamingStdOutCallbackHandler\n",
    "from langchain.chat_models import ChatOpenAI\n",
    "from langchain.schema import HumanMessage\n",
    "\n",
    "def get_chat_response(message_content):\n",
    "    \"\"\"\n",
    "    Sends a message to the ChatOpenAI model and returns the response.\n",
    "\n",
    "    Args:\n",
    "    - message_content (str): The content of the message to be sent.\n",
    "\n",
    "    Returns:\n",
    "    - result: The result from the ChatOpenAI model.\n",
    "    \"\"\"\n",
    "\n",
    "    chat = ChatOpenAI(\n",
    "        model_name=\"gpt-3.5-turbo\",\n",
    "        temperature=0,\n",
    "        streaming=True,\n",
    "        callbacks=[StreamingStdOutCallbackHandler()],\n",
    "    )\n",
    "\n",
    "    messages = [HumanMessage(content=message_content)]\n",
    "    result = chat(messages)\n",
    "\n",
    "    return result\n",
    "\n",
    "# Expanded the Textbox input field to take up full width of the screen\n",
    "input_interface = gr.components.Textbox(lines=2, placeholder=\"User Input Here...\")\n",
    "\n",
    "# with gr.Blocks() as demo:\n",
    "#     with gr.Column(scale=1, min_width=600):\n",
    "#         fn=ask_gpt\n",
    "#         inputs=input_interface\n",
    "#         outputs=\"text\"\n",
    "\n",
    "# demo.launch()\n",
    "\n",
    "demo = gr.Interface(\n",
    "    fn=get_chat_response,\n",
    "    inputs=input_interface,\n",
    "    outputs=\"text\",\n",
    "\n",
    ")\n",
    "demo.launch(inbrowser=True)\n"
   ]
  },
  {
   "cell_type": "code",
   "execution_count": null,
   "id": "1a54779c-712a-4d30-bbf5-324812294bca",
   "metadata": {},
   "outputs": [],
   "source": []
  }
 ],
 "metadata": {
  "kernelspec": {
   "display_name": "Python 3 (ipykernel)",
   "language": "python",
   "name": "python3"
  },
  "language_info": {
   "codemirror_mode": {
    "name": "ipython",
    "version": 3
   },
   "file_extension": ".py",
   "mimetype": "text/x-python",
   "name": "python",
   "nbconvert_exporter": "python",
   "pygments_lexer": "ipython3",
   "version": "3.10.6"
  }
 },
 "nbformat": 4,
 "nbformat_minor": 5
}
