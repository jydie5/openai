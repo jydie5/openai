{
 "cells": [
  {
   "cell_type": "code",
   "execution_count": 4,
   "id": "690a1525-94c6-4478-806e-f10150dc12bb",
   "metadata": {},
   "outputs": [
    {
     "name": "stdout",
     "output_type": "stream",
     "text": [
      "Running on local URL:  http://127.0.0.1:7862\n",
      "\n",
      "To create a public link, set `share=True` in `launch()`.\n"
     ]
    },
    {
     "data": {
      "text/html": [
       "<div><iframe src=\"http://127.0.0.1:7862/\" width=\"100%\" height=\"500\" allow=\"autoplay; camera; microphone; clipboard-read; clipboard-write;\" frameborder=\"0\" allowfullscreen></iframe></div>"
      ],
      "text/plain": [
       "<IPython.core.display.HTML object>"
      ]
     },
     "metadata": {},
     "output_type": "display_data"
    },
    {
     "data": {
      "text/plain": []
     },
     "execution_count": 4,
     "metadata": {},
     "output_type": "execute_result"
    },
    {
     "name": "stderr",
     "output_type": "stream",
     "text": [
      "C:\\Users\\haman\\AppData\\Local\\Programs\\Python\\Python310\\lib\\site-packages\\gradio\\processing_utils.py:188: UserWarning: Trying to convert audio automatically from int32 to 16-bit int format.\n",
      "  warnings.warn(warning.format(data.dtype))\n"
     ]
    },
    {
     "name": "stdout",
     "output_type": "stream",
     "text": [
      "すべてのテキストファイルが transcript.txt に結合されました。\n"
     ]
    }
   ],
   "source": [
    "# Windows用のコード\n",
    "\n",
    "import gradio as gr\n",
    "from pydub import AudioSegment\n",
    "import os\n",
    "from openai import OpenAI\n",
    "import time\n",
    "\n",
    "# OpenAIのクライアントを初期化\n",
    "client = OpenAI(\n",
    "  api_key=os.environ['OPENAI_API_KEY3']\n",
    ")\n",
    "\n",
    "# 要約prompt\n",
    "integrated_template = \"\"\"\n",
    "次の文章は議事録の文字起こしです。以下の手順に従って下さい。\n",
    "\n",
    "# 手順1: 議事録の要点をまとめる\n",
    "## 制約条件\n",
    "* 発言の内容から言いたいことを抽出し、議事録の内容に基づいて、理由と共にまとめる。その度に改行すること。\n",
    "* 関連した論点などが重複している場合は総合して一つの要点とすること\n",
    "* それぞれの要点は300字程度でまとめること\n",
    "* 明確で意味がわかりやすい文章にすること\n",
    "\n",
    "## 議事録の要点\n",
    "文章：{text}\n",
    "要点：\n",
    "\n",
    "# 手順2: 議事録の要点に基づいてサマリーをMarkdown形式で作成してください。\n",
    "## サマリーのフォーマットは以下のように\n",
    "* 会議の目的\n",
    "* 決定事項\n",
    "* 今後の課題\n",
    "* Todo\n",
    "\n",
    "## 最後に全体的なサマリーを簡潔に書く\n",
    "\"\"\"\n",
    "\n",
    "# 'tmp' フォルダの中身をクリアする関数\n",
    "def clear_tmp_folder():\n",
    "    tmp_folder = \"tmp\"\n",
    "    os.makedirs(tmp_folder, exist_ok=True)\n",
    "    for file_name in os.listdir(tmp_folder):\n",
    "        file_path = os.path.join(tmp_folder, file_name)\n",
    "        try:\n",
    "            if os.path.isfile(file_path):\n",
    "                os.unlink(file_path)\n",
    "        except Exception as e:\n",
    "            print(f\"Failed to delete {file_path}. Reason: {e}\")\n",
    "\n",
    "# 音声ファイルを分割し、各チャンクを文字起こしする関数\n",
    "def get_duration(inputs):\n",
    "    audio = AudioSegment.from_file(inputs, format=\"mp3\")  # オーディオファイル形式を適切な形式に変更\n",
    "    length = len(audio)\n",
    "    chunk_length = 1000000\n",
    "    overlap_length = 10000\n",
    "    chunks = []\n",
    "\n",
    "    for i in range(0, length, chunk_length - overlap_length):\n",
    "        chunk = audio[i:i+chunk_length]\n",
    "        chunks.append(chunk)\n",
    "\n",
    "    for i, chunk in enumerate(chunks, start=1):\n",
    "        output_file = f\"tmp/split{i}.mp3\"\n",
    "        chunk.export(output_file, format=\"mp3\")\n",
    "        \n",
    "    transcripts = []\n",
    "    for i in range(1, len(chunks) + 1):\n",
    "        split_audio_file = f\"tmp/split{i}.mp3\"\n",
    "        with open(split_audio_file, \"rb\") as audio_file:\n",
    "            transcript = client.audio.transcriptions.create(\n",
    "                file=audio_file,\n",
    "                model=\"whisper-1\",\n",
    "                response_format=\"text\",\n",
    "                language=\"ja\"\n",
    "            )\n",
    "            transcripts.append(transcript)\n",
    "\n",
    "        with open(f\"tmp/split{i}.txt\", \"w\", encoding=\"utf-8\") as file:\n",
    "            file.write(transcript)\n",
    "\n",
    "    with open(\"tmp/transcript.txt\", \"w\", encoding=\"utf-8\") as output_file:\n",
    "        for i in range(1, len(chunks) + 1):\n",
    "            with open(f\"tmp/split{i}.txt\", \"r\", encoding=\"utf-8\") as input_file:\n",
    "                output_file.write(input_file.read())\n",
    "                output_file.write(\"\\n\")\n",
    "\n",
    "    print(\"すべてのテキストファイルが transcript.txt に結合されました。\")\n",
    "    time.sleep(2)\n",
    "\n",
    "# 以下の部分はコメントアウトしています\n",
    "# 最初にしゃべり言葉を適切な文章に修正\n",
    "# ...\n",
    "\n",
    "# 会議のサマリーを作成  \n",
    "# ...\n",
    "\n",
    "\n",
    "#会議のサマリーを作成  \n",
    "    with open(\"tmp/transcript.txt\", encoding=\"utf-8\") as f:\n",
    "        transcript = f.read()\n",
    "        \n",
    "    formatted_template = integrated_template.format(text=transcript)\n",
    "    \n",
    "    response = client.chat.completions.create(\n",
    "        model=\"gpt-4-1106-preview\",#このモデルは入力トークン120k、出力4096です。それ以上の議事録はトークンオーバーエラー\n",
    "        messages=[\n",
    "            {\"role\": \"system\", \"content\": formatted_template},\n",
    "            {\"role\": \"user\", \"content\": transcript}\n",
    "        ],\n",
    "        max_tokens=4096,  # この値は必要に応じて調整\n",
    "        temperature=0.7,\n",
    "    )\n",
    "\n",
    "    summary = response.choices[0].message.content.strip() \n",
    "    \n",
    "    return summary,transcript\n",
    "\n",
    "\n",
    "\n",
    "# Clear 'tmp' folder before launching the interface\n",
    "clear_tmp_folder()\n",
    "\n",
    "iface = gr.Interface(\n",
    "    fn=get_duration,\n",
    "    inputs=gr.Audio(type=\"filepath\", label=\"会議ファイルをアップロード\"),\n",
    "    outputs=[\"text\", \"text\"],  # 戻り値が2つあるため、\"outputs\"パラメータも2つにする\n",
    "    #theme='freddyaboulton/dracula_revamped',\n",
    "    #theme='HaleyCH/HaleyCH_Theme',\n",
    "    theme='freddyaboulton/dracula_revamped',\n",
    "    title=\"AI議事録書き起こし、要点書き出し、サマリー生成\",\n",
    "    description=\"Upload an audio file to Generate.\"\n",
    ")\n",
    "\n",
    "iface.launch(inbrowser=True)\n"
   ]
  },
  {
   "cell_type": "code",
   "execution_count": 2,
   "id": "9569dbc6-a9f3-46b3-83a8-10ae7cd94acf",
   "metadata": {},
   "outputs": [
    {
     "name": "stdout",
     "output_type": "stream",
     "text": [
      "Collecting ffmpeg\n",
      "  Downloading ffmpeg-1.4.tar.gz (5.1 kB)\n",
      "  Installing build dependencies: started\n",
      "  Installing build dependencies: finished with status 'done'\n",
      "  Getting requirements to build wheel: started\n",
      "  Getting requirements to build wheel: finished with status 'done'\n",
      "  Preparing metadata (pyproject.toml): started\n",
      "  Preparing metadata (pyproject.toml): finished with status 'done'\n",
      "Building wheels for collected packages: ffmpeg\n",
      "  Building wheel for ffmpeg (pyproject.toml): started\n",
      "  Building wheel for ffmpeg (pyproject.toml): finished with status 'done'\n",
      "  Created wheel for ffmpeg: filename=ffmpeg-1.4-py3-none-any.whl size=6089 sha256=a0b50fe42d87f47a1ae2cc4941d483eccdc8521ededefb482a0f0d2242b3c248\n",
      "  Stored in directory: c:\\users\\haman\\appdata\\local\\pip\\cache\\wheels\\8e\\7a\\69\\cd6aeb83b126a7f04cbe7c9d929028dc52a6e7d525ff56003a\n",
      "Successfully built ffmpeg\n",
      "Installing collected packages: ffmpeg\n",
      "Successfully installed ffmpeg-1.4\n"
     ]
    }
   ],
   "source": [
    "!pip install ffmpeg"
   ]
  },
  {
   "cell_type": "code",
   "execution_count": null,
   "id": "fa68a94f-5b57-4068-877e-27b5df631bfb",
   "metadata": {},
   "outputs": [],
   "source": []
  }
 ],
 "metadata": {
  "kernelspec": {
   "display_name": "Python 3 (ipykernel)",
   "language": "python",
   "name": "python3"
  },
  "language_info": {
   "codemirror_mode": {
    "name": "ipython",
    "version": 3
   },
   "file_extension": ".py",
   "mimetype": "text/x-python",
   "name": "python",
   "nbconvert_exporter": "python",
   "pygments_lexer": "ipython3",
   "version": "3.10.6"
  }
 },
 "nbformat": 4,
 "nbformat_minor": 5
}
