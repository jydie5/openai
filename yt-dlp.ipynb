{
 "cells": [
  {
   "cell_type": "code",
   "execution_count": 1,
   "id": "df226b92-b5eb-45d6-be05-e072e5359b91",
   "metadata": {},
   "outputs": [
    {
     "ename": "ModuleNotFoundError",
     "evalue": "No module named 'yt_dlp'",
     "output_type": "error",
     "traceback": [
      "\u001b[1;31m---------------------------------------------------------------------------\u001b[0m",
      "\u001b[1;31mModuleNotFoundError\u001b[0m                       Traceback (most recent call last)",
      "Cell \u001b[1;32mIn[1], line 1\u001b[0m\n\u001b[1;32m----> 1\u001b[0m \u001b[38;5;28;01mfrom\u001b[39;00m \u001b[38;5;21;01myt_dlp\u001b[39;00m \u001b[38;5;28;01mimport\u001b[39;00m YoutubeDL\n\u001b[0;32m      2\u001b[0m ydl \u001b[38;5;241m=\u001b[39m YoutubeDL()\n\u001b[0;32m      3\u001b[0m result \u001b[38;5;241m=\u001b[39m ydl\u001b[38;5;241m.\u001b[39mdownload([\u001b[38;5;124m'\u001b[39m\u001b[38;5;124mhttps://www.youtube.com/watch?v=_NjbNTSbl8A\u001b[39m\u001b[38;5;124m'\u001b[39m])\n",
      "\u001b[1;31mModuleNotFoundError\u001b[0m: No module named 'yt_dlp'"
     ]
    }
   ],
   "source": [
    "from yt_dlp import YoutubeDL\n",
    "ydl = YoutubeDL()\n",
    "result = ydl.download(['https://www.youtube.com/watch?v=_NjbNTSbl8A'])"
   ]
  },
  {
   "cell_type": "code",
   "execution_count": 2,
   "id": "f224d909-686b-4771-8877-8d8aab86a1ff",
   "metadata": {},
   "outputs": [
    {
     "name": "stdout",
     "output_type": "stream",
     "text": [
      "[youtube] Extracting URL: https://www.youtube.com/watch?v=9KzdSxCX4Bc&pp=ygUNamV0YWltZSBvemF3YQ%3D%3D\n",
      "[youtube] 9KzdSxCX4Bc: Downloading webpage\n",
      "[youtube] 9KzdSxCX4Bc: Downloading ios player API JSON\n",
      "[youtube] 9KzdSxCX4Bc: Downloading android player API JSON\n",
      "[info] 9KzdSxCX4Bc: Downloading 1 format(s): 17\n",
      "[download] Destination: 小沢健二 OZAWA Jetaime 2 [9KzdSxCX4Bc].3gp\n",
      "[download] 100% of    4.84MiB in 00:00:00 at 5.31MiB/s   \n"
     ]
    }
   ],
   "source": [
    "from yt_dlp import YoutubeDL\n",
    "\n",
    "#最高の画質と音質を動画をダウンロードする\n",
    "ydl_opts = {'format': 'best'}\n",
    "\n",
    "#動画のURLを指定\n",
    "with YoutubeDL(ydl_opts) as ydl:\n",
    "    ydl.download(['https://www.youtube.com/watch?v=9KzdSxCX4Bc&pp=ygUNamV0YWltZSBvemF3YQ%3D%3D'])"
   ]
  },
  {
   "cell_type": "code",
   "execution_count": 2,
   "id": "d8b415b8-9ec3-4812-bf0d-21655324f2a3",
   "metadata": {
    "scrolled": true
   },
   "outputs": [
    {
     "name": "stdout",
     "output_type": "stream",
     "text": [
      "Requirement already satisfied: yt-dlp in c:\\users\\test\\.pyenv\\pyenv-win\\versions\\3.10.6\\lib\\site-packages (2023.7.6)\n",
      "Requirement already satisfied: mutagen in c:\\users\\test\\.pyenv\\pyenv-win\\versions\\3.10.6\\lib\\site-packages (from yt-dlp) (1.46.0)\n",
      "Requirement already satisfied: websockets in c:\\users\\test\\.pyenv\\pyenv-win\\versions\\3.10.6\\lib\\site-packages (from yt-dlp) (11.0.3)\n",
      "Requirement already satisfied: certifi in c:\\users\\test\\.pyenv\\pyenv-win\\versions\\3.10.6\\lib\\site-packages (from yt-dlp) (2023.7.22)\n",
      "Requirement already satisfied: brotli in c:\\users\\test\\.pyenv\\pyenv-win\\versions\\3.10.6\\lib\\site-packages (from yt-dlp) (1.0.9)\n",
      "Requirement already satisfied: pycryptodomex in c:\\users\\test\\.pyenv\\pyenv-win\\versions\\3.10.6\\lib\\site-packages (from yt-dlp) (3.18.0)\n"
     ]
    },
    {
     "name": "stderr",
     "output_type": "stream",
     "text": [
      "\n",
      "[notice] A new release of pip available: 22.2.1 -> 23.2.1\n",
      "[notice] To update, run: python.exe -m pip install --upgrade pip\n"
     ]
    }
   ],
   "source": [
    "#youtubeから音声ファイルのみを落としてくる\n",
    "from yt_dlp import YoutubeDL\n",
    "\n",
    "ydl_video_opts = {\n",
    "    'outtmpl': '%(id)s'+'_.mp3',\n",
    "    'format': 'bestaudio'\n",
    "}\n",
    "\n",
    "with YoutubeDL(ydl_video_opts) as ydl:\n",
    "    result = ydl.download([\n",
    "        'https://www.youtube.com/watch?v=PLXVlaFbwxA'\n",
    "    ])"
   ]
  },
  {
   "cell_type": "code",
   "execution_count": 1,
   "id": "c737e8c7-5c26-47d7-911f-aef1dfce3083",
   "metadata": {},
   "outputs": [
    {
     "name": "stdout",
     "output_type": "stream",
     "text": [
      "Name: yt-dlp\n",
      "Version: 2023.7.6\n",
      "Summary: A youtube-dl fork with additional features and patches\n",
      "Home-page: https://github.com/yt-dlp/yt-dlp\n",
      "Author: \n",
      "Author-email: \n",
      "License: \n",
      "Location: /Library/Frameworks/Python.framework/Versions/3.10/lib/python3.10/site-packages\n",
      "Requires: brotli, certifi, mutagen, pycryptodomex, websockets\n",
      "Required-by: \n",
      "Note: you may need to restart the kernel to use updated packages.\n"
     ]
    }
   ],
   "source": [
    "pip show yt_dlp"
   ]
  },
  {
   "cell_type": "code",
   "execution_count": 4,
   "id": "a43b148f-2acc-4786-8b07-9ccf431a8dd8",
   "metadata": {},
   "outputs": [
    {
     "name": "stdout",
     "output_type": "stream",
     "text": [
      "Available version: stable@2023.09.24, Current version: stable@2023.07.06\n",
      "\u001b[0;31mERROR:\u001b[0m You installed yt-dlp with pip or using the wheel from PyPi; Use that to update\n"
     ]
    }
   ],
   "source": [
    "!yt-dlp -U"
   ]
  },
  {
   "cell_type": "code",
   "execution_count": null,
   "id": "07a824df-28ae-4901-ab16-0f2620c891de",
   "metadata": {},
   "outputs": [],
   "source": []
  },
  {
   "cell_type": "code",
   "execution_count": 1,
   "id": "d7847bd6-812b-4bbe-aeac-ce353a5194a9",
   "metadata": {},
   "outputs": [
    {
     "name": "stderr",
     "output_type": "stream",
     "text": [
      "WARNING: [youtube] Login with password is not supported for this website. Use --cookies-from-browser or --cookies for the authentication. See  https://github.com/yt-dlp/yt-dlp/wiki/FAQ#how-do-i-pass-cookies-to-yt-dlp  for how to manually pass cookies\n"
     ]
    },
    {
     "name": "stdout",
     "output_type": "stream",
     "text": [
      "[youtube] Extracting URL: https://www.youtube.com/watch?v=RgP0BkUBvtw\n",
      "[youtube] RgP0BkUBvtw: Downloading webpage\n",
      "[youtube] RgP0BkUBvtw: Downloading ios player API JSON\n",
      "[youtube] RgP0BkUBvtw: Downloading android player API JSON\n",
      "[youtube] RgP0BkUBvtw: Downloading m3u8 information\n",
      "[info] RgP0BkUBvtw: Downloading 1 format(s): 22\n",
      "[download] Destination: 幕張ベイパークミッドスクエアタワー完売　4棟目の価格は？！　4棟目を待つべき？今すぐ中古を狙うべき？ [RgP0BkUBvtw].mp4\n",
      "[download] 100% of  160.94MiB in 00:00:20 at 7.92MiB/s     \n"
     ]
    }
   ],
   "source": [
    "#niconico auth username password\n",
    "#https://stackoverflow.com/questions/38658046/how-can-i-find-all-ydl-opts\n",
    "#https://intaa.net/archives/56106\n",
    "\n",
    "from yt_dlp import YoutubeDL\n",
    "\n",
    "#最高の画質と音質を動画をダウンロードする\n",
    "ydl_opts = {\n",
    "    'format': 'best',\n",
    "    'username':'milkrings@gmail.com',\n",
    "    'password':'f5bts9di',\n",
    "    'cookies-from-browser':'chrome'\n",
    "}\n",
    "\n",
    "#動画のURLを指定\n",
    "with YoutubeDL(ydl_opts) as ydl:\n",
    "    ydl.download(['https://www.youtube.com/watch?v=RgP0BkUBvtw'])\n"
   ]
  },
  {
   "cell_type": "code",
   "execution_count": null,
   "id": "72b6eba8-a5af-437d-970a-7fc54150c6ce",
   "metadata": {},
   "outputs": [],
   "source": [
    "#excel to youtube download\n",
    "#A列にURLが記載されたExcelファイルを読み取ることを前提としたプログラムになります。\n",
    "\n",
    "from yt_dlp import YoutubeDL\n",
    "import openpyxl\n",
    "import time\n",
    "from time import sleep\n",
    "\n",
    "directry='ディレクトリを指定して下さい。'\n",
    "\n",
    "# ブック取得\n",
    "wb = openpyxl.load_workbook(directry+'保存リスト.xlsx', data_only=True)\n",
    "\n",
    "# シートを取得\n",
    "sheet = wb[\"Sheet1\"]\n",
    "max_row=sheet.max_row+1\n",
    "\n",
    "# ExcelからURLを読み取り、動画を連続でダウンロードする\n",
    "for i in range(1,max_row):\n",
    "    URL=(sheet.cell(row=i, column=1).value) #URLを読み込み\n",
    "    print(URL)\n",
    "    \n",
    "    ydl_opts = {\n",
    "                'format': 'best',\n",
    "                'outtmpl': '%(title)s.%(ext)s'\n",
    "                }\n",
    "    with YoutubeDL(ydl_opts) as ydl:\n",
    "        result = ydl.download([URL])\n",
    "        print(result)\n",
    "    sleep(2)"
   ]
  },
  {
   "cell_type": "code",
   "execution_count": null,
   "id": "3d6126e4-d70c-4464-95e7-105e1cbd9912",
   "metadata": {},
   "outputs": [],
   "source": []
  }
 ],
 "metadata": {
  "kernelspec": {
   "display_name": "Python 3 (ipykernel)",
   "language": "python",
   "name": "python3"
  },
  "language_info": {
   "codemirror_mode": {
    "name": "ipython",
    "version": 3
   },
   "file_extension": ".py",
   "mimetype": "text/x-python",
   "name": "python",
   "nbconvert_exporter": "python",
   "pygments_lexer": "ipython3",
   "version": "3.10.6"
  }
 },
 "nbformat": 4,
 "nbformat_minor": 5
}
